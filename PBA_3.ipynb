{
  "nbformat": 4,
  "nbformat_minor": 0,
  "metadata": {
    "colab": {
      "provenance": []
    },
    "kernelspec": {
      "name": "python3",
      "display_name": "Python 3"
    },
    "language_info": {
      "name": "python"
    }
  },
  "cells": [
    {
      "cell_type": "markdown",
      "source": [
        "# Spell Check Indonesia using Norvig\n",
        "---\n",
        "Colab ini menjelaskan implementasi dari dua metode Spell Check yang bisa diterapkan pada bahasa Indonesia yaitu Peter Norvig Spell Checker"
      ],
      "metadata": {
        "id": "Jzc7k2YLlNkB"
      }
    },
    {
      "cell_type": "markdown",
      "source": [
        "## Introduction\n",
        "Salah satu tahap *text preprocessing* yang berperan untuk meningkatkan performa model *machine learning* adalah *spell checking*. Hal ini disebabkan teks yang terdapat pada internet terutama sosial media seringkali banyak salah tulis (typo), sehingga akan direpresentasikan sebagai kata yang berbeda dan menyebabkan jumlah *vocabulary* kata semakin besar.\n",
        "\n",
        "Oleh karena itu dengan memperbaiki penulisan kata dari kesalahan dapat meningkatkan performa model."
      ],
      "metadata": {
        "id": "V5FEAX1OlbXU"
      }
    },
    {
      "cell_type": "markdown",
      "source": [
        "# load dictionary\n",
        "\n",
        "Pada langkah ini dilakukan pencarian dan\n",
        "pengumpulan dataset daftar kata Bahasa Indonesia.\n",
        "Dataset daftar kata Bahasa Indonesia ini bersumber dari\n",
        "Kamus Besar Bahasa Indonesia (KBBI). Penulis\n",
        "menggunakan dataset yang sudah ada yaitu diambil dari\n",
        "Github Jim GeovedI.\n"
      ],
      "metadata": {
        "id": "lEj3PR88nsFv"
      }
    },
    {
      "cell_type": "code",
      "source": [
        "import re\n",
        "from collections import Counter\n",
        "\n",
        "# build language model\n",
        "def words(text): return re.findall(r'\\w+', text.lower())\n",
        "\n",
        "path_corpus = \"01-kbbi3-2001-sort-alpha.lst\"\n",
        "\n",
        "WORDS = Counter(words(open(path_corpus).read()))\n",
        "\n",
        "def P(word, N=sum(WORDS.values())):\n",
        "    \"Probability of `word`.\"\n",
        "    return WORDS[word] / N"
      ],
      "metadata": {
        "id": "_VdMOwfHXfvT"
      },
      "execution_count": 2,
      "outputs": []
    },
    {
      "cell_type": "markdown",
      "source": [
        "* 're': Modul untuk operasi dengan ekspresi reguler, seperti pencarian dan manipulasi pola teks.\n",
        "* 'Counter': Bagian dari modul collections, digunakan untuk menghitung elemen yang dapat dihash dalam sebuah iterable (dalam kasus ini, kata dalam teks).\n",
        "* Fungsi words mengambil teks sebagai input dan mengembalikan daftar kata-kata dalam teks tersebut.\n",
        "* re.findall(r'\\w+', text.lower()): Menggunakan ekspresi reguler untuk menemukan semua kata (karakter alfanumerik) dalam teks, dan mengubahnya menjadi huruf kecil untuk konsistensi.\n",
        "* 'path_corpus': Menyimpan jalur file korpus.\n",
        "* 'WORDS': Membaca isi file korpus, kemudian menghitung frekuensi kemunculan setiap kata dengan menggunakan Counter.\n",
        "* P: Menghitung probabilitas kemunculan sebuah kata dalam korpus.\n",
        "* N: Total jumlah kata dalam korpus (dihitung sekali dan disimpan sebagai nilai default).\n",
        "* WORDS[word] / N: Frekuensi kata dibagi dengan total jumlah kata."
      ],
      "metadata": {
        "id": "iVskU1fLdUXw"
      }
    },
    {
      "cell_type": "markdown",
      "source": [
        "## Peter Norvig Spell Checker\n",
        "\n",
        "Metode paling sederhana untuk Spelling Corrector adalah dengan metode yang diterapkan oleh [Peter Norvig](https://norvig.com/spell-correct.html) dengan pendekatan Bayes Theorem.\n",
        "\n",
        "---\n",
        "\n",
        "Untuk mendapatkan kata yang tepat dapat dituliskan dengan persamaan berikut:\n",
        "\n",
        "$$correction (w) = argmax_{c ∈ candidates} P(c|w)$$\n",
        "\n",
        "artinya dicari probabilitas suatu kata $w$ yang paling tinggi dari kumpulan $candidates$.\n",
        "\n",
        "Misalkan diketahui seperti berikut.\n",
        "```\n",
        "w = 'kcing'\n",
        "candidates = ['kacing', 'kecing', 'kucing']\n",
        "\n",
        "P('kacing'|'kcing') = 0.6\n",
        "P('kecing'|'kcing') = 0.3\n",
        "P('kucing'|'kcing') = 0.8\n",
        "```\n",
        "\n",
        "Hasilnya tentu saja untuk `correction('kcing')` adalah `kucing` dengan probabilitas terbesar yaitu `0.8`.\n"
      ],
      "metadata": {
        "id": "06ITg_d3aX94"
      }
    },
    {
      "cell_type": "markdown",
      "source": [
        "Persamaan di atas dapat dituliskan menjadi\n",
        "\n",
        "$$correction (w) = argmax_{c ∈ candidates} \\frac{P(c)P(w|c)}{P(w)}$$\n",
        "\n",
        "Karena $P(w)$ adalah sama untuk setiap kemungkinan `candidate c`, maka bisa kita hilangkan dan ditulis menjadi\n",
        "\n",
        "$$correction (w) = argmax_{c ∈ candidates} P(c)P(w|c)$$"
      ],
      "metadata": {
        "id": "DKgX1gHVmrxd"
      }
    },
    {
      "cell_type": "markdown",
      "source": [
        "Berdasarkan persamaan di atas, terdapat empat bagian:\n",
        "1. **Selection Mechanism**: $argmax$, digunakan untuk memilih kandidat yang memiliki probabilitas tertinggi.\n",
        "2. **Candidate Model**: $c ∈ candidates$, menunjukkan kandidat kata `c` dari kumpulan kandidat `candidates`.\n",
        "3. **Language Model**: $P(c)$, probabilitas kandidat `c` muncul pada sebuah corpus dokumen. Pada kasus kita, misalkan probabilitas kemunculan `P(kucing)` pada corpus `wiki.txt` adalah `0.3`.\n",
        "4. **Error Model**: $P(w|c)$, menunjukkan probabilitas bahwa kata `w` adalah teks yang dimaksud pada kandidat `c`. Contohnya `P('kcing'|'kacing') = 0.1` lebih rendah dari `P('kcing'|'kucing') = 0.4`."
      ],
      "metadata": {
        "id": "rWPxTwhomvR4"
      }
    },
    {
      "cell_type": "code",
      "source": [
        "# selection mechanism\n",
        "def correction(word):\n",
        "    \"Most probable spelling correction for word.\"\n",
        "    return max(candidates(word), key=P)\n",
        "\n",
        "# candidate model\n",
        "def candidates(word):\n",
        "    \"Generate possible spelling corrections for word.\"\n",
        "    return (known([word]) or known(edits1(word)) or known(edits2(word)) or [word])\n",
        "\n",
        "# error model\n",
        "def known(words):\n",
        "    \"The subset of `words` that appear in the dictionary of WORDS.\"\n",
        "    return set(w for w in words if w in WORDS)\n",
        "\n",
        "def edits1(word):\n",
        "    \"All edits that are one edit away from `word`.\"\n",
        "    letters    = 'abcdefghijklmnopqrstuvwxyz'\n",
        "    splits     = [(word[:i], word[i:])    for i in range(len(word) + 1)]\n",
        "    deletes    = [L + R[1:]               for L, R in splits if R]\n",
        "    transposes = [L + R[1] + R[0] + R[2:] for L, R in splits if len(R)>1]\n",
        "    replaces   = [L + c + R[1:]           for L, R in splits if R for c in letters]\n",
        "    inserts    = [L + c + R               for L, R in splits for c in letters]\n",
        "    return set(deletes + transposes + replaces + inserts)\n",
        "\n",
        "def edits2(word):\n",
        "    \"All edits that are two edits away from `word`.\"\n",
        "    return (e2 for e1 in edits1(word) for e2 in edits1(e1))"
      ],
      "metadata": {
        "id": "bKv8s5xrnL09"
      },
      "execution_count": 3,
      "outputs": []
    },
    {
      "cell_type": "markdown",
      "source": [
        "**Correction**\n",
        "*   correction: Mengembalikan koreksi ejaan yang paling mungkin untuk sebuah kata.\n",
        "* max(candidates(word), key=P): Memilih kata dari kumpulan kandidat yang memiliki probabilitas tertinggi.\n",
        "-----\n",
        "**candidates**\n",
        "*   candidates: Menghasilkan kandidat koreksi ejaan untuk sebuah kata.\n",
        "* Urutan pemeriksaan:\n",
        "1. known([word]): Jika kata tersebut sudah benar.\n",
        "2. known(edits1(word)): Kata-kata yang berjarak satu edit dari kata tersebut.\n",
        "3. known(edits2(word)): Kata-kata yang berjarak dua edit dari kata tersebut.\n",
        "4. [word]: Kata itu sendiri jika tidak ada kandidat lain.\n",
        "-----\n",
        "**known**\n",
        "*  known: Mengembalikan subset dari daftar kata yang terdapat dalam korpus.\n",
        "*  set(w for w in words if w in WORDS): Mengembalikan hanya kata-kata yang ada dalam WORDS.\n",
        "---\n",
        "**edits1**\n",
        "* edits1: Menghasilkan semua kata yang berjarak satu edit dari kata yang diberikan.\n",
        "* letters: String berisi semua huruf alfabet.\n",
        "* splits: Semua cara untuk membagi kata menjadi dua bagian.\n",
        "* deletes: Menghapus satu karakter.\n",
        "* transposes: Menukar dua karakter berurutan.\n",
        "* replaces: Mengganti satu karakter dengan karakter lain.\n",
        "* inserts: Menyisipkan satu karakter di antara dua karakter.\n",
        "* set(deletes + transposes + replaces + inserts): Menggabungkan semua hasil edit dan mengembalikan sebagai himpunan.\n",
        "---\n",
        "**edits2**\n",
        "* edits2: Menghasilkan semua kata yang berjarak dua edit dari kata yang diberikan.\n",
        "* Melakukan dua kali operasi edits1.\n",
        "\n",
        "\n",
        "\n",
        "\n",
        "\n"
      ],
      "metadata": {
        "id": "X3MKAWyxeT-Z"
      }
    },
    {
      "cell_type": "markdown",
      "source": [
        "------"
      ],
      "metadata": {
        "id": "6q0P8d2FgMQ7"
      }
    },
    {
      "cell_type": "code",
      "source": [
        "# contoh perbaikan kata 'kcing'\n",
        "correction('kcing')"
      ],
      "metadata": {
        "colab": {
          "base_uri": "https://localhost:8080/",
          "height": 36
        },
        "id": "x--LezesuIPV",
        "outputId": "8c2de075-a1e9-428a-ff65-28c86f02b9c5"
      },
      "execution_count": 4,
      "outputs": [
        {
          "output_type": "execute_result",
          "data": {
            "text/plain": [
              "'kaing'"
            ],
            "application/vnd.google.colaboratory.intrinsic+json": {
              "type": "string"
            }
          },
          "metadata": {},
          "execution_count": 4
        }
      ]
    },
    {
      "cell_type": "markdown",
      "source": [],
      "metadata": {
        "id": "PC_yJaFogLWw"
      }
    },
    {
      "cell_type": "code",
      "source": [
        "print(f'Banyak kata dari language model: {len(WORDS)}')"
      ],
      "metadata": {
        "colab": {
          "base_uri": "https://localhost:8080/"
        },
        "id": "m9iUZiJcnL6X",
        "outputId": "5af715fb-da40-4a54-c8f4-5a20aca326a1"
      },
      "execution_count": 5,
      "outputs": [
        {
          "output_type": "stream",
          "name": "stdout",
          "text": [
            "Banyak kata dari language model: 61434\n"
          ]
        }
      ]
    },
    {
      "cell_type": "code",
      "source": [
        "known(['kcing'])  # hasilnya kata 'kcing' tidak terdapat pada language model"
      ],
      "metadata": {
        "colab": {
          "base_uri": "https://localhost:8080/"
        },
        "id": "NRgGzVsP8RrN",
        "outputId": "1b598c9c-1981-4a0a-e4d8-9a1aef811285"
      },
      "execution_count": 6,
      "outputs": [
        {
          "output_type": "execute_result",
          "data": {
            "text/plain": [
              "set()"
            ]
          },
          "metadata": {},
          "execution_count": 6
        }
      ]
    },
    {
      "cell_type": "markdown",
      "source": [
        "- Kandidat berikutnya dari `known(edits1('kcing'))`\n",
        "\n",
        "Terdapat empat operasi pada `edit distance 1`:\n",
        "- `deletes`: dengan menghapus satu karakter pada kata `kcing` mejadi `cing, kcig, kcin, kcng, king`.\n",
        "- `transposes`: dengan menggeser satu karakter pada kata `kcing` menjadi `cking, kcign, kcnig, kicng`.\n",
        "- `replaces`: dengan mengganti satu karakter pada kata `kcing` dengan huruf a-z. Misalkan dengan mengganti huruf `k` pada `kcing` menjadi `acing, bcing, ccing, dcing` dan seterusnya.\n",
        "- `inserts`: dengan menambahkan satu karakter pada kata `kcing` dengan huruf a-z. Misalkan dengan menambah karakter bagian depan kata `kcing` menjadi `akcing, bkcing, ckcing, dkcing` dan seterusnya."
      ],
      "metadata": {
        "id": "Nz9TIvyvpfU4"
      }
    },
    {
      "cell_type": "code",
      "source": [
        "# cek dari kumpulan candidates yang terdapat pada language model\n",
        "known(edits1('kcing'))"
      ],
      "metadata": {
        "colab": {
          "base_uri": "https://localhost:8080/"
        },
        "id": "e6SZp-2eYZh4",
        "outputId": "bcf5ca40-4c21-4b8a-d7c7-b411e6265b72"
      },
      "execution_count": 7,
      "outputs": [
        {
          "output_type": "execute_result",
          "data": {
            "text/plain": [
              "{'cing', 'kaing', 'king', 'kling', 'kring', 'kucing', 'kuing'}"
            ]
          },
          "metadata": {},
          "execution_count": 7
        }
      ]
    },
    {
      "cell_type": "code",
      "source": [
        "def P(word, N=sum(WORDS.values())):\n",
        "    \"Probability of `word`.\"\n",
        "    return WORDS[word] / N\n",
        "\n",
        "def correction(word):\n",
        "    \"Most probable spelling correction for word.\"\n",
        "    return max(candidates(word), key=P)"
      ],
      "metadata": {
        "id": "Vahft8I4YZeZ"
      },
      "execution_count": 8,
      "outputs": []
    },
    {
      "cell_type": "code",
      "source": [
        "words = ['cing', 'kaing', 'king', 'kling', 'kring', 'kucing', 'kuing']\n",
        "\n",
        "# hitung probabilitas\n",
        "for c in words:\n",
        "    print(f'P({c}) = {P(c)}')"
      ],
      "metadata": {
        "colab": {
          "base_uri": "https://localhost:8080/"
        },
        "id": "Ola4YC_8pvYq",
        "outputId": "7ce1acb7-74b0-4322-f7d0-c31c436fd75e"
      },
      "execution_count": 9,
      "outputs": [
        {
          "output_type": "stream",
          "name": "stdout",
          "text": [
            "P(cing) = 1.6277631279096265e-05\n",
            "P(kaing) = 1.6277631279096265e-05\n",
            "P(king) = 1.6277631279096265e-05\n",
            "P(kling) = 1.6277631279096265e-05\n",
            "P(kring) = 1.6277631279096265e-05\n",
            "P(kucing) = 1.6277631279096265e-05\n",
            "P(kuing) = 1.6277631279096265e-05\n"
          ]
        }
      ]
    },
    {
      "cell_type": "code",
      "source": [
        "import time\n",
        "\n",
        "test_words = ['kcing', 'memkan', 'mrdeka', 'mnyedihkan', 'gimena',\n",
        "              'terdpt', 'mrmpersulit', 'mhon', 'banos', 'begimana']"
      ],
      "metadata": {
        "id": "bMh-fLP-YZba"
      },
      "execution_count": 10,
      "outputs": []
    },
    {
      "cell_type": "code",
      "source": [
        "# Peter Norvig Spell Checker\n",
        "start = time.time()\n",
        "for w in test_words:\n",
        "    print(f\"'{w}' -> '{correction(w)}'\")\n",
        "end = time.time()\n",
        "print(f'- Peter Norvig: {end-start} detik')\n",
        "print()"
      ],
      "metadata": {
        "colab": {
          "base_uri": "https://localhost:8080/"
        },
        "id": "cFQYZLA-YZYw",
        "outputId": "0bf05c8d-aa17-41ef-dbdf-658a048a232b"
      },
      "execution_count": 11,
      "outputs": [
        {
          "output_type": "stream",
          "name": "stdout",
          "text": [
            "'kcing' -> 'kaing'\n",
            "'memkan' -> 'memakan'\n",
            "'mrdeka' -> 'merdeka'\n",
            "'mnyedihkan' -> 'menyedihkan'\n",
            "'gimena' -> 'hiena'\n",
            "'terdpt' -> 'teret'\n",
            "'mrmpersulit' -> 'mrmpersulit'\n",
            "'mhon' -> 'mpon'\n",
            "'banos' -> 'bandos'\n",
            "'begimana' -> 'begana'\n",
            "- Peter Norvig: 0.711350679397583 detik\n",
            "\n"
          ]
        }
      ]
    },
    {
      "cell_type": "code",
      "source": [],
      "metadata": {
        "id": "0jpOKbYDYZVr"
      },
      "execution_count": 11,
      "outputs": []
    },
    {
      "cell_type": "code",
      "source": [],
      "metadata": {
        "id": "CuxcuP6LYZSp"
      },
      "execution_count": 11,
      "outputs": []
    },
    {
      "cell_type": "code",
      "source": [],
      "metadata": {
        "id": "HWFZpXRiYZPs"
      },
      "execution_count": 11,
      "outputs": []
    },
    {
      "cell_type": "code",
      "source": [],
      "metadata": {
        "id": "zcPBCeJUYZM3"
      },
      "execution_count": 11,
      "outputs": []
    }
  ]
}